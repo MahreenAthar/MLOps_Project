{
 "cells": [
  {
   "cell_type": "code",
   "execution_count": 105,
   "id": "600b5d04",
   "metadata": {},
   "outputs": [],
   "source": [
    "import mlflow\n",
    "import mlflow.sklearn #(for MLflow Models and auto-logging)\n",
    "from sklearn.model_selection import train_test_split \n",
    "from sklearn.ensemble import RandomForestRegressor \n",
    "from sklearn.metrics import mean_squared_error\n",
    "import numpy as np\n",
    "import pandas as pd\n",
    "import urllib.request"
   ]
  },
  {
   "cell_type": "code",
   "execution_count": 106,
   "id": "16d66c4a",
   "metadata": {},
   "outputs": [],
   "source": [
    "csv_url = 'https://raw.githubusercontent.com/MahreenAthar/MLOps_Project/main/heart_failure_clinical_records_dataset.csv'"
   ]
  },
  {
   "cell_type": "code",
   "execution_count": 107,
   "id": "3c17b91e",
   "metadata": {},
   "outputs": [
    {
     "data": {
      "text/plain": [
       "('heart_failure_clinical_records_dataset.csv',\n",
       " <http.client.HTTPMessage at 0x1acae9294c0>)"
      ]
     },
     "execution_count": 107,
     "metadata": {},
     "output_type": "execute_result"
    }
   ],
   "source": [
    "urllib.request.urlretrieve(csv_url, 'heart_failure_clinical_records_dataset.csv')"
   ]
  },
  {
   "cell_type": "code",
   "execution_count": 108,
   "id": "e2cf78cf",
   "metadata": {},
   "outputs": [],
   "source": [
    "df = pd.read_csv('heart_failure_clinical_records_dataset.csv')"
   ]
  },
  {
   "cell_type": "code",
   "execution_count": 109,
   "id": "9d397181",
   "metadata": {},
   "outputs": [],
   "source": [
    "# Fill missing values with zeros\n",
    "df_filled = df.fillna(0)"
   ]
  },
  {
   "cell_type": "code",
   "execution_count": 110,
   "id": "5a9a140c",
   "metadata": {},
   "outputs": [],
   "source": [
    "# Split the dataset into X and y\n",
    "X = df_filled.drop('DEATH_EVENT', axis=1)\n",
    "y = df_filled['DEATH_EVENT']\n",
    "\n",
    "# Split the dataset into train and test sets\n",
    "X_train, X_test, y_train, y_test = train_test_split(X, y, test_size=0.33, random_state=42)"
   ]
  },
  {
   "cell_type": "code",
   "execution_count": 111,
   "id": "82e85f7e",
   "metadata": {},
   "outputs": [],
   "source": [
    "#Set the MLflow tracking URI to point to your local instance of the MLflow server\n",
    "mlflow.set_tracking_uri(\"http://localhost:5000\")"
   ]
  },
  {
   "cell_type": "code",
   "execution_count": 112,
   "id": "7f39f217",
   "metadata": {},
   "outputs": [
    {
     "data": {
      "text/plain": [
       "'http://localhost:5000'"
      ]
     },
     "execution_count": 112,
     "metadata": {},
     "output_type": "execute_result"
    }
   ],
   "source": [
    "#Get the current tracking uri\n",
    "mlflow.get_tracking_uri()"
   ]
  },
  {
   "cell_type": "code",
   "execution_count": 114,
   "id": "2c83b21a",
   "metadata": {},
   "outputs": [
    {
     "data": {
      "text/plain": [
       "'158188459553538204'"
      ]
     },
     "execution_count": 114,
     "metadata": {},
     "output_type": "execute_result"
    }
   ],
   "source": [
    "#create a new experiment\n",
    "mlflow.create_experiment(\"mlops_project_heart\")"
   ]
  },
  {
   "cell_type": "code",
   "execution_count": 115,
   "id": "1d0bab47",
   "metadata": {},
   "outputs": [
    {
     "data": {
      "text/plain": [
       "<ActiveRun: >"
      ]
     },
     "execution_count": 115,
     "metadata": {},
     "output_type": "execute_result"
    }
   ],
   "source": [
    "#Create a new MLflow run (Parent run)\n",
    "mlflow.start_run(\n",
    "    run_name=\"project_heart\",\n",
    "    experiment_id='158188459553538204',\n",
    "    description=\"Random Forest Regressor for heart failure dataset of mlops project\")"
   ]
  },
  {
   "cell_type": "code",
   "execution_count": 116,
   "id": "7127f42d",
   "metadata": {},
   "outputs": [],
   "source": [
    "#Enable auto-logging\n",
    "mlflow.sklearn.autolog()"
   ]
  },
  {
   "cell_type": "code",
   "execution_count": 117,
   "id": "a61a30fe",
   "metadata": {},
   "outputs": [],
   "source": [
    "# Define hyperparameters to search\n",
    "n_estimators_list = [50, 100, 200]       #number of trees\n",
    "max_depth_list = [3, 5, 10]              #number of splits"
   ]
  },
  {
   "cell_type": "code",
   "execution_count": 118,
   "id": "668ba984",
   "metadata": {},
   "outputs": [
    {
     "name": "stderr",
     "output_type": "stream",
     "text": [
      "2023/06/11 19:19:49 WARNING mlflow.utils.autologging_utils: MLflow autologging encountered a warning: \"C:\\Users\\NAC\\AppData\\Roaming\\Python\\Python39\\site-packages\\mlflow\\models\\signature.py:130: UserWarning: Hint: Inferred schema contains integer column(s). Integer columns in Python cannot represent missing values. If your input data contains missing values at inference time, it will be encoded as floats and will cause a schema enforcement error. The best way to avoid this problem is to infer the model schema based on a realistic data sample (training dataset) that includes missing values. Alternatively, you can declare integer columns as doubles (float64) whenever these columns may have missing values. See `Handling Integers With Missing Values <https://www.mlflow.org/docs/latest/models.html#handling-integers-with-missing-values>`_ for more details.\"\n",
      "2023/06/11 19:19:58 WARNING mlflow.utils.autologging_utils: MLflow autologging encountered a warning: \"C:\\Users\\NAC\\AppData\\Roaming\\Python\\Python39\\site-packages\\mlflow\\models\\signature.py:130: UserWarning: Hint: Inferred schema contains integer column(s). Integer columns in Python cannot represent missing values. If your input data contains missing values at inference time, it will be encoded as floats and will cause a schema enforcement error. The best way to avoid this problem is to infer the model schema based on a realistic data sample (training dataset) that includes missing values. Alternatively, you can declare integer columns as doubles (float64) whenever these columns may have missing values. See `Handling Integers With Missing Values <https://www.mlflow.org/docs/latest/models.html#handling-integers-with-missing-values>`_ for more details.\"\n",
      "2023/06/11 19:20:07 WARNING mlflow.utils.autologging_utils: MLflow autologging encountered a warning: \"C:\\Users\\NAC\\AppData\\Roaming\\Python\\Python39\\site-packages\\mlflow\\models\\signature.py:130: UserWarning: Hint: Inferred schema contains integer column(s). Integer columns in Python cannot represent missing values. If your input data contains missing values at inference time, it will be encoded as floats and will cause a schema enforcement error. The best way to avoid this problem is to infer the model schema based on a realistic data sample (training dataset) that includes missing values. Alternatively, you can declare integer columns as doubles (float64) whenever these columns may have missing values. See `Handling Integers With Missing Values <https://www.mlflow.org/docs/latest/models.html#handling-integers-with-missing-values>`_ for more details.\"\n",
      "2023/06/11 19:20:17 WARNING mlflow.utils.autologging_utils: MLflow autologging encountered a warning: \"C:\\Users\\NAC\\AppData\\Roaming\\Python\\Python39\\site-packages\\mlflow\\models\\signature.py:130: UserWarning: Hint: Inferred schema contains integer column(s). Integer columns in Python cannot represent missing values. If your input data contains missing values at inference time, it will be encoded as floats and will cause a schema enforcement error. The best way to avoid this problem is to infer the model schema based on a realistic data sample (training dataset) that includes missing values. Alternatively, you can declare integer columns as doubles (float64) whenever these columns may have missing values. See `Handling Integers With Missing Values <https://www.mlflow.org/docs/latest/models.html#handling-integers-with-missing-values>`_ for more details.\"\n",
      "2023/06/11 19:20:27 WARNING mlflow.utils.autologging_utils: MLflow autologging encountered a warning: \"C:\\Users\\NAC\\AppData\\Roaming\\Python\\Python39\\site-packages\\mlflow\\models\\signature.py:130: UserWarning: Hint: Inferred schema contains integer column(s). Integer columns in Python cannot represent missing values. If your input data contains missing values at inference time, it will be encoded as floats and will cause a schema enforcement error. The best way to avoid this problem is to infer the model schema based on a realistic data sample (training dataset) that includes missing values. Alternatively, you can declare integer columns as doubles (float64) whenever these columns may have missing values. See `Handling Integers With Missing Values <https://www.mlflow.org/docs/latest/models.html#handling-integers-with-missing-values>`_ for more details.\"\n",
      "2023/06/11 19:20:36 WARNING mlflow.utils.autologging_utils: MLflow autologging encountered a warning: \"C:\\Users\\NAC\\AppData\\Roaming\\Python\\Python39\\site-packages\\mlflow\\models\\signature.py:130: UserWarning: Hint: Inferred schema contains integer column(s). Integer columns in Python cannot represent missing values. If your input data contains missing values at inference time, it will be encoded as floats and will cause a schema enforcement error. The best way to avoid this problem is to infer the model schema based on a realistic data sample (training dataset) that includes missing values. Alternatively, you can declare integer columns as doubles (float64) whenever these columns may have missing values. See `Handling Integers With Missing Values <https://www.mlflow.org/docs/latest/models.html#handling-integers-with-missing-values>`_ for more details.\"\n",
      "2023/06/11 19:20:46 WARNING mlflow.utils.autologging_utils: MLflow autologging encountered a warning: \"C:\\Users\\NAC\\AppData\\Roaming\\Python\\Python39\\site-packages\\mlflow\\models\\signature.py:130: UserWarning: Hint: Inferred schema contains integer column(s). Integer columns in Python cannot represent missing values. If your input data contains missing values at inference time, it will be encoded as floats and will cause a schema enforcement error. The best way to avoid this problem is to infer the model schema based on a realistic data sample (training dataset) that includes missing values. Alternatively, you can declare integer columns as doubles (float64) whenever these columns may have missing values. See `Handling Integers With Missing Values <https://www.mlflow.org/docs/latest/models.html#handling-integers-with-missing-values>`_ for more details.\"\n",
      "2023/06/11 19:20:57 WARNING mlflow.utils.autologging_utils: MLflow autologging encountered a warning: \"C:\\Users\\NAC\\AppData\\Roaming\\Python\\Python39\\site-packages\\mlflow\\models\\signature.py:130: UserWarning: Hint: Inferred schema contains integer column(s). Integer columns in Python cannot represent missing values. If your input data contains missing values at inference time, it will be encoded as floats and will cause a schema enforcement error. The best way to avoid this problem is to infer the model schema based on a realistic data sample (training dataset) that includes missing values. Alternatively, you can declare integer columns as doubles (float64) whenever these columns may have missing values. See `Handling Integers With Missing Values <https://www.mlflow.org/docs/latest/models.html#handling-integers-with-missing-values>`_ for more details.\"\n",
      "2023/06/11 19:21:08 WARNING mlflow.utils.autologging_utils: MLflow autologging encountered a warning: \"C:\\Users\\NAC\\AppData\\Roaming\\Python\\Python39\\site-packages\\mlflow\\models\\signature.py:130: UserWarning: Hint: Inferred schema contains integer column(s). Integer columns in Python cannot represent missing values. If your input data contains missing values at inference time, it will be encoded as floats and will cause a schema enforcement error. The best way to avoid this problem is to infer the model schema based on a realistic data sample (training dataset) that includes missing values. Alternatively, you can declare integer columns as doubles (float64) whenever these columns may have missing values. See `Handling Integers With Missing Values <https://www.mlflow.org/docs/latest/models.html#handling-integers-with-missing-values>`_ for more details.\"\n"
     ]
    }
   ],
   "source": [
    "# Create nested runs for each combination of hyperparameters\n",
    "for n_estimators in n_estimators_list:\n",
    "    for max_depth in max_depth_list:\n",
    "        # Start nested MLflow run\n",
    "        with mlflow.start_run(nested=True) as run:      #child of existing parent run\n",
    "            # Train RandomForestRegressor with current hyperparameters\n",
    "            model = RandomForestRegressor(n_estimators=n_estimators, max_depth=max_depth, random_state=42)\n",
    "            model.fit(X_train, y_train)\n",
    "            \n",
    "            #Evaluate the performance of the trained RandomForestRegressor on the test dataset\n",
    "            y_pred = model.predict(X_test)\n",
    "            mse = mean_squared_error(y_test, y_pred)\n",
    "                        \n",
    "            #Log evaluation metric\n",
    "            mlflow.log_metrics({'mse': mse})\n",
    "                        \n",
    "            # Log model and hyperparameters\n",
    "            mlflow.sklearn.log_model(model, \"heart_rfr_model\")\n",
    "            mlflow.log_params({\"n_estimators\": n_estimators, \"max_depth\": max_depth})"
   ]
  },
  {
   "cell_type": "code",
   "execution_count": 119,
   "id": "221f0094",
   "metadata": {},
   "outputs": [
    {
     "name": "stdout",
     "output_type": "stream",
     "text": [
      "a74189c590a744e98783c00d68f0cb27\n"
     ]
    }
   ],
   "source": [
    "# Search for the best run\n",
    "best_run = mlflow.search_runs(experiment_ids='158188459553538204', order_by=[f\"metrics.mse DESC\"], max_results=1)\n",
    "\n",
    "# Get the run ID for the best run\n",
    "run_id = best_run.iloc[0][\"run_id\"]\n",
    "print(run_id)"
   ]
  },
  {
   "cell_type": "code",
   "execution_count": 120,
   "id": "dae347f0",
   "metadata": {},
   "outputs": [
    {
     "name": "stderr",
     "output_type": "stream",
     "text": [
      "Registered model 'project_heart_model' already exists. Creating a new version of this model...\n",
      "2023/06/11 19:22:22 INFO mlflow.tracking._model_registry.client: Waiting up to 300 seconds for model version to finish creation.                     Model name: project_heart_model, version 2\n",
      "Created version '2' of model 'project_heart_model'.\n"
     ]
    },
    {
     "data": {
      "text/plain": [
       "<ModelVersion: creation_timestamp=1686493342035, current_stage='None', description='', last_updated_timestamp=1686493342035, name='project_heart_model', run_id='a74189c590a744e98783c00d68f0cb27', run_link='', source='mlflow-artifacts:/158188459553538204/a74189c590a744e98783c00d68f0cb27/artifacts/heart_rfr_model', status='READY', status_message='', tags={}, user_id='', version='2'>"
      ]
     },
     "execution_count": 120,
     "metadata": {},
     "output_type": "execute_result"
    }
   ],
   "source": [
    "# Register best model with MLflow Model Registry\n",
    "mlflow.register_model(f\"runs:/{run_id}/heart_rfr_model\", \"project_heart_model\")"
   ]
  },
  {
   "cell_type": "code",
   "execution_count": 121,
   "id": "9c68e4a9",
   "metadata": {},
   "outputs": [],
   "source": [
    "mlflow.end_run()"
   ]
  },
  {
   "cell_type": "code",
   "execution_count": null,
   "id": "2ee27ebd",
   "metadata": {},
   "outputs": [],
   "source": []
  }
 ],
 "metadata": {
  "kernelspec": {
   "display_name": "Python 3 (ipykernel)",
   "language": "python",
   "name": "python3"
  },
  "language_info": {
   "codemirror_mode": {
    "name": "ipython",
    "version": 3
   },
   "file_extension": ".py",
   "mimetype": "text/x-python",
   "name": "python",
   "nbconvert_exporter": "python",
   "pygments_lexer": "ipython3",
   "version": "3.9.7"
  }
 },
 "nbformat": 4,
 "nbformat_minor": 5
}
